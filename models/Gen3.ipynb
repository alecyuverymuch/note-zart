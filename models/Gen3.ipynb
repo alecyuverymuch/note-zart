{
 "cells": [
  {
   "cell_type": "code",
   "execution_count": 1,
   "id": "05ceb0a2",
   "metadata": {},
   "outputs": [
    {
     "name": "stdout",
     "output_type": "stream",
     "text": [
      "Num GPUs Available:  1\n"
     ]
    }
   ],
   "source": [
    "import random\n",
    "import time\n",
    "\n",
    "import pandas as pd\n",
    "import pretty_midi\n",
    "import tensorflow as tf\n",
    "from matplotlib import pyplot as plt\n",
    "\n",
    "from data.load_data import *\n",
    "\n",
    "print(\"Num GPUs Available: \", len(tf.config.list_physical_devices('GPU')))\n",
    "\n",
    "seed = 2022\n",
    "tf.random.set_seed(seed)\n",
    "np.random.seed(seed)"
   ]
  },
  {
   "cell_type": "code",
   "execution_count": 11,
   "id": "374c5424",
   "metadata": {},
   "outputs": [
    {
     "name": "stdout",
     "output_type": "stream",
     "text": [
      "Loading data...\n",
      ">> (86080, 3)\n"
     ]
    }
   ],
   "source": [
    "print(\"Loading data...\")\n",
    "dataset = load_note_data(use_cache=True).reshape((86080, 3))\n",
    "key_order = [\"pitch\", \"delay\", \"duration\"]\n",
    "print(f\">> {dataset.shape}\")\n",
    "note_count = len(dataset)"
   ]
  },
  {
   "cell_type": "code",
   "execution_count": 12,
   "id": "ad66913a",
   "metadata": {},
   "outputs": [
    {
     "name": "stdout",
     "output_type": "stream",
     "text": [
      "Creating tensorflow dataset...\n",
      ">> TensorSpec(shape=(3,), dtype=tf.float64, name=None)\n"
     ]
    }
   ],
   "source": [
    "print(\"Creating tensorflow dataset...\")\n",
    "notes_dataset = tf.data.Dataset.from_tensor_slices(dataset)\n",
    "print(f\">> {notes_dataset.element_spec}\")"
   ]
  },
  {
   "cell_type": "code",
   "execution_count": 13,
   "id": "aef04127",
   "metadata": {},
   "outputs": [
    {
     "data": {
      "text/plain": "(TensorSpec(shape=(64, 3), dtype=tf.float64, name=None),\n {'pitch': TensorSpec(shape=(), dtype=tf.float64, name=None),\n  'delay': TensorSpec(shape=(), dtype=tf.float64, name=None),\n  'duration': TensorSpec(shape=(), dtype=tf.float64, name=None)})"
     },
     "execution_count": 13,
     "metadata": {},
     "output_type": "execute_result"
    }
   ],
   "source": [
    "def create_sequences(dataset: tf.data.Dataset, seq_length: int, vocab_size=128) -> tf.data.Dataset:\n",
    "    \"\"\" Returns TF Dataset of sequence and label examples \"\"\"\n",
    "    seq_length = seq_length + 1\n",
    "\n",
    "    # Take 1 extra for the labels\n",
    "    windows = dataset.window(seq_length, shift=1, stride=1, drop_remainder=True)\n",
    "\n",
    "    # `flat_map` flattens the\" dataset of datasets\" into a dataset of tensors\n",
    "    flatten = lambda x: x.batch(seq_length, drop_remainder=True)\n",
    "    sequences = windows.flat_map(flatten)\n",
    "\n",
    "    # Normalize note pitch\n",
    "    def scale_pitch(x):\n",
    "        return x / [vocab_size, 1.0, 1.0]\n",
    "\n",
    "    # Split the labels\n",
    "    def split_labels(sequences):\n",
    "        inputs = sequences[:-1]\n",
    "        labels_dense = sequences[-1]\n",
    "        labels = {key: labels_dense[i] for i, key in enumerate(key_order)}\n",
    "\n",
    "        return scale_pitch(inputs), labels\n",
    "\n",
    "    return sequences.map(split_labels, num_parallel_calls=tf.data.AUTOTUNE)\n",
    "\n",
    "\n",
    "seq_length = 64\n",
    "vocab_size = 128  # range of pitches supported in pretty_midi\n",
    "sequence_dataset = create_sequences(notes_dataset, seq_length, vocab_size)\n",
    "sequence_dataset.element_spec"
   ]
  },
  {
   "cell_type": "code",
   "execution_count": 14,
   "id": "1c9fd1c5",
   "metadata": {},
   "outputs": [
    {
     "name": "stdout",
     "output_type": "stream",
     "text": [
      "sequence shape: (64, 3)\n",
      "sequence elements (first 5): tf.Tensor(\n",
      "[[0.5390625 0.        0.5      ]\n",
      " [0.5546875 0.5       0.5      ]\n",
      " [0.5390625 0.5       0.5      ]\n",
      " [0.5546875 0.5       0.25     ]\n",
      " [0.5625    0.25      0.25     ]], shape=(5, 3), dtype=float64)\n",
      "target: {'pitch': <tf.Tensor: shape=(), dtype=float64, numpy=72.0>, 'delay': <tf.Tensor: shape=(), dtype=float64, numpy=0.0>, 'duration': <tf.Tensor: shape=(), dtype=float64, numpy=1.0>}\n",
      "sequence shape: (64, 3)\n",
      "sequence elements (first 5): tf.Tensor(\n",
      "[[0.5546875 0.5       0.5      ]\n",
      " [0.5390625 0.5       0.5      ]\n",
      " [0.5546875 0.5       0.25     ]\n",
      " [0.5625    0.25      0.25     ]\n",
      " [0.5625    0.25      0.25     ]], shape=(5, 3), dtype=float64)\n",
      "target: {'pitch': <tf.Tensor: shape=(), dtype=float64, numpy=72.0>, 'delay': <tf.Tensor: shape=(), dtype=float64, numpy=1.0>, 'duration': <tf.Tensor: shape=(), dtype=float64, numpy=0.75>}\n",
      "sequence shape: (64, 3)\n",
      "sequence elements (first 5): tf.Tensor(\n",
      "[[0.5390625 0.5       0.5      ]\n",
      " [0.5546875 0.5       0.25     ]\n",
      " [0.5625    0.25      0.25     ]\n",
      " [0.5625    0.25      0.25     ]\n",
      " [0.5390625 0.25      0.25     ]], shape=(5, 3), dtype=float64)\n",
      "target: {'pitch': <tf.Tensor: shape=(), dtype=float64, numpy=69.0>, 'delay': <tf.Tensor: shape=(), dtype=float64, numpy=0.75>, 'duration': <tf.Tensor: shape=(), dtype=float64, numpy=0.25>}\n"
     ]
    }
   ],
   "source": [
    "for seq, target in sequence_dataset.take(3):\n",
    "    print('sequence shape:', seq.shape)\n",
    "    print('sequence elements (first 5):', seq[0: 5])\n",
    "    print('target:', target)"
   ]
  },
  {
   "cell_type": "code",
   "execution_count": 17,
   "id": "d6c45fce",
   "metadata": {
    "pycharm": {
     "name": "#%%\n"
    }
   },
   "outputs": [
    {
     "name": "stdout",
     "output_type": "stream",
     "text": [
      "Test playing MIDI song...\n"
     ]
    }
   ],
   "source": [
    "skip_count = random.randint(0, 600)\n",
    "skipped = 0\n",
    "for aa, ab in sequence_dataset.take(skip_count + 1):\n",
    "    if skipped < skip_count:\n",
    "        skipped += 1\n",
    "        continue\n",
    "    song = MidiSong.from_full_note_array(aa.numpy())\n",
    "    test_play(song)"
   ]
  },
  {
   "cell_type": "code",
   "execution_count": 16,
   "id": "74205a1b",
   "metadata": {},
   "outputs": [],
   "source": [
    "batch_size = 512\n",
    "buffer_size = note_count - seq_length  # the number of items in the dataset\n",
    "train_dataset = (sequence_dataset\n",
    "                 .shuffle(buffer_size)\n",
    "                 .batch(batch_size, drop_remainder=True)\n",
    "                 .cache()\n",
    "                 .prefetch(tf.data.experimental.AUTOTUNE))"
   ]
  },
  {
   "cell_type": "code",
   "execution_count": 18,
   "outputs": [],
   "source": [
    "def mse_with_positive_pressure(y_true: tf.Tensor, y_pred: tf.Tensor):\n",
    "    mse = (y_true - y_pred) ** 2\n",
    "    positive_pressure = 10 * tf.maximum(-y_pred, 0.0)\n",
    "    return tf.reduce_mean(mse + positive_pressure)"
   ],
   "metadata": {
    "collapsed": false,
    "pycharm": {
     "name": "#%%\n"
    }
   }
  },
  {
   "cell_type": "code",
   "execution_count": 22,
   "id": "c261396c",
   "metadata": {},
   "outputs": [
    {
     "name": "stdout",
     "output_type": "stream",
     "text": [
      "Model: \"model_3\"\n",
      "__________________________________________________________________________________________________\n",
      " Layer (type)                   Output Shape         Param #     Connected to                     \n",
      "==================================================================================================\n",
      " input_4 (InputLayer)           [(None, 64, 3)]      0           []                               \n",
      "                                                                                                  \n",
      " lstm_3 (LSTM)                  (None, 512)          1056768     ['input_4[0][0]']                \n",
      "                                                                                                  \n",
      " delay (Dense)                  (None, 1)            513         ['lstm_3[0][0]']                 \n",
      "                                                                                                  \n",
      " duration (Dense)               (None, 1)            513         ['lstm_3[0][0]']                 \n",
      "                                                                                                  \n",
      " pitch (Dense)                  (None, 128)          65664       ['lstm_3[0][0]']                 \n",
      "                                                                                                  \n",
      "==================================================================================================\n",
      "Total params: 1,123,458\n",
      "Trainable params: 1,123,458\n",
      "Non-trainable params: 0\n",
      "__________________________________________________________________________________________________\n"
     ]
    }
   ],
   "source": [
    "input_shape = (seq_length, 3)\n",
    "learning_rate = 0.005\n",
    "\n",
    "inputs = tf.keras.Input(input_shape)\n",
    "x = tf.keras.layers.LSTM(512)(inputs)\n",
    "# x = tf.keras.layers.Dense(512, kernel_regularizer=tf.keras.regularizers.l2(0.001))(x)\n",
    "# x = tf.keras.layers.Dense(256, kernel_regularizer=tf.keras.regularizers.l2(0.001))(x)\n",
    "\n",
    "outputs = {\n",
    "    \"pitch\": tf.keras.layers.Dense(128, name=\"pitch\")(x),\n",
    "    \"delay\": tf.keras.layers.Dense(1, name=\"delay\")(x),\n",
    "    \"duration\": tf.keras.layers.Dense(1, name=\"duration\")(x)\n",
    "}\n",
    "\n",
    "model = tf.keras.Model(inputs, outputs)\n",
    "\n",
    "loss = {\n",
    "    \"pitch\": tf.keras.losses.SparseCategoricalCrossentropy(from_logits=True),\n",
    "    \"delay\": mse_with_positive_pressure,\n",
    "    \"duration\": mse_with_positive_pressure\n",
    "}\n",
    "\n",
    "optimizer = tf.keras.optimizers.Adam(learning_rate=learning_rate)\n",
    "\n",
    "model.compile(loss=loss, optimizer=optimizer)\n",
    "\n",
    "model.summary()"
   ]
  },
  {
   "cell_type": "code",
   "execution_count": 23,
   "id": "a30ef2f6",
   "metadata": {
    "pycharm": {
     "name": "#%%\n"
    }
   },
   "outputs": [],
   "source": [
    "callbacks = [\n",
    "    tf.keras.callbacks.ModelCheckpoint(\n",
    "        filepath=\"./training_checkpoints/ckpt_{epoch}\",\n",
    "        save_weights_only=True),\n",
    "    tf.keras.callbacks.EarlyStopping(\n",
    "        monitor='loss',\n",
    "        patience=10,\n",
    "        verbose=1,\n",
    "        restore_best_weights=True)\n",
    "]"
   ]
  },
  {
   "cell_type": "code",
   "execution_count": 24,
   "id": "9b833b83",
   "metadata": {
    "pycharm": {
     "name": "#%%\n"
    }
   },
   "outputs": [
    {
     "name": "stdout",
     "output_type": "stream",
     "text": [
      "168/168 [==============================] - 19s 48ms/step - loss: 11.0043 - delay_loss: 5.9412 - duration_loss: 1.4331 - pitch_loss: 3.6299\n"
     ]
    }
   ],
   "source": [
    "epochs = 50\n",
    "history = model.fit(\n",
    "    train_dataset,\n",
    "    epochs=epochs,\n",
    "    callbacks=callbacks,\n",
    ")"
   ]
  },
  {
   "cell_type": "code",
   "execution_count": 25,
   "id": "a65476f6",
   "metadata": {
    "pycharm": {
     "name": "#%%\n"
    }
   },
   "outputs": [
    {
     "data": {
      "text/plain": "<Figure size 432x288 with 1 Axes>",
      "image/png": "[encoded data removed]"
     },
     "metadata": {
      "needs_background": "light"
     },
     "output_type": "display_data"
    }
   ],
   "source": [
    "plt.plot(history.epoch, history.history[\"loss\"], label=\"total loss\")\n",
    "plt.show()"
   ]
  },
  {
   "cell_type": "code",
   "execution_count": 30,
   "id": "d94f6318",
   "metadata": {
    "pycharm": {
     "name": "#%%\n"
    }
   },
   "outputs": [],
   "source": [
    "def predict_next_note(notes: np.ndarray, model: tf.keras.Model, temperature=1.0):\n",
    "    \"\"\"Generates a note IDs using a trained sequence model.\"\"\"\n",
    "    assert temperature > 0\n",
    "    # Add batch dimension\n",
    "    inputs = tf.expand_dims(notes, 0)\n",
    "    predictions = model.predict(inputs)\n",
    "    pitch_logits = predictions[\"pitch\"]\n",
    "    pitch_logits /= temperature\n",
    "    pitch = tf.random.categorical(pitch_logits, num_samples=1)\n",
    "    pitch = tf.squeeze(pitch, axis=-1)\n",
    "\n",
    "    delay = predictions[\"delay\"]\n",
    "    duration = predictions[\"duration\"]\n",
    "    return int(pitch), float(delay), float(duration)"
   ]
  },
  {
   "cell_type": "code",
   "execution_count": 39,
   "id": "4d223d59",
   "metadata": {
    "pycharm": {
     "name": "#%%\n"
    }
   },
   "outputs": [
    {
     "name": "stdout",
     "output_type": "stream",
     "text": [
      "Using starter notes from 4181 to 4245...\n"
     ]
    },
    {
     "data": {
      "text/plain": "    pitch     start       end\n0      93  0.421906  0.462373\n1      49  0.252119  0.475189\n2      36  0.294244  0.472228\n3      83  0.321562  0.474290\n4      30  0.240160  0.471687\n5      81  0.343697  0.469752\n6      62  0.240724  0.472716\n7      25  0.265948  0.473219\n8     100  0.356142  0.470473\n9      68  0.244691  0.464648\n10     67  0.256276  0.472147\n11     93  0.255856  0.473842\n12     94  0.235195  0.465913\n13     56  0.233654  0.465210\n14     44  0.275371  0.472855\n15     76  0.298946  0.474484\n16     64  0.243563  0.472863\n17     63  0.261436  0.473341\n18     63  0.261908  0.474277\n19     39  0.261967  0.474253\n20     62  0.313839  0.473088\n21     60  0.262665  0.475860\n22     72  0.268052  0.474302\n23     45  0.248864  0.473169\n24     62  0.299481  0.473108\n25     81  0.262805  0.475529\n26     29  0.239691  0.470541\n27     69  0.345231  0.469828\n28     75  0.251775  0.475727\n29     33  0.246134  0.471972\n30     64  0.332475  0.471240\n31     53  0.259333  0.476273\n32     77  0.282129  0.474116\n33     53  0.243143  0.472318\n34     50  0.282058  0.473376\n35     74  0.286269  0.475098\n36     71  0.246289  0.473151\n37     55  0.250786  0.472663\n38     73  0.276917  0.473986\n39     82  0.247082  0.473217\n40     52  0.238655  0.469912\n41     64  0.283427  0.473149\n42     57  0.259344  0.474938\n43     85  0.272918  0.474303\n44     56  0.236828  0.469356\n45     78  0.275904  0.473060\n46     70  0.241537  0.471881\n47     65  0.251985  0.472671\n48     77  0.258783  0.473784\n49     66  0.242773  0.471749",
      "text/html": "<div>\n<style scoped>\n    .dataframe tbody tr th:only-of-type {\n        vertical-align: middle;\n    }\n\n    .dataframe tbody tr th {\n        vertical-align: top;\n    }\n\n    .dataframe thead th {\n        text-align: right;\n    }\n</style>\n<table border=\"1\" class=\"dataframe\">\n  <thead>\n    <tr style=\"text-align: right;\">\n      <th></th>\n      <th>pitch</th>\n      <th>start</th>\n      <th>end</th>\n    </tr>\n  </thead>\n  <tbody>\n    <tr>\n      <th>0</th>\n      <td>93</td>\n      <td>0.421906</td>\n      <td>0.462373</td>\n    </tr>\n    <tr>\n      <th>1</th>\n      <td>49</td>\n      <td>0.252119</td>\n      <td>0.475189</td>\n    </tr>\n    <tr>\n      <th>2</th>\n      <td>36</td>\n      <td>0.294244</td>\n      <td>0.472228</td>\n    </tr>\n    <tr>\n      <th>3</th>\n      <td>83</td>\n      <td>0.321562</td>\n      <td>0.474290</td>\n    </tr>\n    <tr>\n      <th>4</th>\n      <td>30</td>\n      <td>0.240160</td>\n      <td>0.471687</td>\n    </tr>\n    <tr>\n      <th>5</th>\n      <td>81</td>\n      <td>0.343697</td>\n      <td>0.469752</td>\n    </tr>\n    <tr>\n      <th>6</th>\n      <td>62</td>\n      <td>0.240724</td>\n      <td>0.472716</td>\n    </tr>\n    <tr>\n      <th>7</th>\n      <td>25</td>\n      <td>0.265948</td>\n      <td>0.473219</td>\n    </tr>\n    <tr>\n      <th>8</th>\n      <td>100</td>\n      <td>0.356142</td>\n      <td>0.470473</td>\n    </tr>\n    <tr>\n      <th>9</th>\n      <td>68</td>\n      <td>0.244691</td>\n      <td>0.464648</td>\n    </tr>\n    <tr>\n      <th>10</th>\n      <td>67</td>\n      <td>0.256276</td>\n      <td>0.472147</td>\n    </tr>\n    <tr>\n      <th>11</th>\n      <td>93</td>\n      <td>0.255856</td>\n      <td>0.473842</td>\n    </tr>\n    <tr>\n      <th>12</th>\n      <td>94</td>\n      <td>0.235195</td>\n      <td>0.465913</td>\n    </tr>\n    <tr>\n      <th>13</th>\n      <td>56</td>\n      <td>0.233654</td>\n      <td>0.465210</td>\n    </tr>\n    <tr>\n      <th>14</th>\n      <td>44</td>\n      <td>0.275371</td>\n      <td>0.472855</td>\n    </tr>\n    <tr>\n      <th>15</th>\n      <td>76</td>\n      <td>0.298946</td>\n      <td>0.474484</td>\n    </tr>\n    <tr>\n      <th>16</th>\n      <td>64</td>\n      <td>0.243563</td>\n      <td>0.472863</td>\n    </tr>\n    <tr>\n      <th>17</th>\n      <td>63</td>\n      <td>0.261436</td>\n      <td>0.473341</td>\n    </tr>\n    <tr>\n      <th>18</th>\n      <td>63</td>\n      <td>0.261908</td>\n      <td>0.474277</td>\n    </tr>\n    <tr>\n      <th>19</th>\n      <td>39</td>\n      <td>0.261967</td>\n      <td>0.474253</td>\n    </tr>\n    <tr>\n      <th>20</th>\n      <td>62</td>\n      <td>0.313839</td>\n      <td>0.473088</td>\n    </tr>\n    <tr>\n      <th>21</th>\n      <td>60</td>\n      <td>0.262665</td>\n      <td>0.475860</td>\n    </tr>\n    <tr>\n      <th>22</th>\n      <td>72</td>\n      <td>0.268052</td>\n      <td>0.474302</td>\n    </tr>\n    <tr>\n      <th>23</th>\n      <td>45</td>\n      <td>0.248864</td>\n      <td>0.473169</td>\n    </tr>\n    <tr>\n      <th>24</th>\n      <td>62</td>\n      <td>0.299481</td>\n      <td>0.473108</td>\n    </tr>\n    <tr>\n      <th>25</th>\n      <td>81</td>\n      <td>0.262805</td>\n      <td>0.475529</td>\n    </tr>\n    <tr>\n      <th>26</th>\n      <td>29</td>\n      <td>0.239691</td>\n      <td>0.470541</td>\n    </tr>\n    <tr>\n      <th>27</th>\n      <td>69</td>\n      <td>0.345231</td>\n      <td>0.469828</td>\n    </tr>\n    <tr>\n      <th>28</th>\n      <td>75</td>\n      <td>0.251775</td>\n      <td>0.475727</td>\n    </tr>\n    <tr>\n      <th>29</th>\n      <td>33</td>\n      <td>0.246134</td>\n      <td>0.471972</td>\n    </tr>\n    <tr>\n      <th>30</th>\n      <td>64</td>\n      <td>0.332475</td>\n      <td>0.471240</td>\n    </tr>\n    <tr>\n      <th>31</th>\n      <td>53</td>\n      <td>0.259333</td>\n      <td>0.476273</td>\n    </tr>\n    <tr>\n      <th>32</th>\n      <td>77</td>\n      <td>0.282129</td>\n      <td>0.474116</td>\n    </tr>\n    <tr>\n      <th>33</th>\n      <td>53</td>\n      <td>0.243143</td>\n      <td>0.472318</td>\n    </tr>\n    <tr>\n      <th>34</th>\n      <td>50</td>\n      <td>0.282058</td>\n      <td>0.473376</td>\n    </tr>\n    <tr>\n      <th>35</th>\n      <td>74</td>\n      <td>0.286269</td>\n      <td>0.475098</td>\n    </tr>\n    <tr>\n      <th>36</th>\n      <td>71</td>\n      <td>0.246289</td>\n      <td>0.473151</td>\n    </tr>\n    <tr>\n      <th>37</th>\n      <td>55</td>\n      <td>0.250786</td>\n      <td>0.472663</td>\n    </tr>\n    <tr>\n      <th>38</th>\n      <td>73</td>\n      <td>0.276917</td>\n      <td>0.473986</td>\n    </tr>\n    <tr>\n      <th>39</th>\n      <td>82</td>\n      <td>0.247082</td>\n      <td>0.473217</td>\n    </tr>\n    <tr>\n      <th>40</th>\n      <td>52</td>\n      <td>0.238655</td>\n      <td>0.469912</td>\n    </tr>\n    <tr>\n      <th>41</th>\n      <td>64</td>\n      <td>0.283427</td>\n      <td>0.473149</td>\n    </tr>\n    <tr>\n      <th>42</th>\n      <td>57</td>\n      <td>0.259344</td>\n      <td>0.474938</td>\n    </tr>\n    <tr>\n      <th>43</th>\n      <td>85</td>\n      <td>0.272918</td>\n      <td>0.474303</td>\n    </tr>\n    <tr>\n      <th>44</th>\n      <td>56</td>\n      <td>0.236828</td>\n      <td>0.469356</td>\n    </tr>\n    <tr>\n      <th>45</th>\n      <td>78</td>\n      <td>0.275904</td>\n      <td>0.473060</td>\n    </tr>\n    <tr>\n      <th>46</th>\n      <td>70</td>\n      <td>0.241537</td>\n      <td>0.471881</td>\n    </tr>\n    <tr>\n      <th>47</th>\n      <td>65</td>\n      <td>0.251985</td>\n      <td>0.472671</td>\n    </tr>\n    <tr>\n      <th>48</th>\n      <td>77</td>\n      <td>0.258783</td>\n      <td>0.473784</td>\n    </tr>\n    <tr>\n      <th>49</th>\n      <td>66</td>\n      <td>0.242773</td>\n      <td>0.471749</td>\n    </tr>\n  </tbody>\n</table>\n</div>"
     },
     "execution_count": 39,
     "metadata": {},
     "output_type": "execute_result"
    }
   ],
   "source": [
    "temperature = 3.0\n",
    "num_predictions = 500\n",
    "\n",
    "a = random.randint(0, 6000)\n",
    "print(f\"Using starter notes from {a} to {a + 64}...\")\n",
    "starter_notes = np.stack(dataset[a:a + 64])\n",
    "input_notes = (starter_notes[:seq_length] / np.array([vocab_size]))\n",
    "\n",
    "generated_notes = []\n",
    "for _ in range(num_predictions):\n",
    "    input_note = predict_next_note(input_notes, model, temperature)\n",
    "    generated_notes.append(input_note)\n",
    "    input_notes = np.delete(input_notes, 0, axis=0)\n",
    "    input_notes = np.append(input_notes, np.expand_dims(input_note, axis=0), axis=0)\n",
    "\n",
    "generated_notes = pd.DataFrame(generated_notes, columns=(\"pitch\", \"start\", \"end\"))\n",
    "generated_notes"
   ]
  },
  {
   "cell_type": "code",
   "execution_count": 40,
   "id": "fa1e7f41",
   "metadata": {
    "pycharm": {
     "name": "#%%\n"
    }
   },
   "outputs": [],
   "source": [
    "def notes_to_midi(starter_notes, notes: pd.DataFrame, out_file: str):\n",
    "    pm = pretty_midi.PrettyMIDI()\n",
    "    starter_instrument = pretty_midi.Instrument(\n",
    "        program=pretty_midi.instrument_name_to_program(\"Acoustic Guitar (steel)\"))\n",
    "    instrument = pretty_midi.Instrument(program=pretty_midi.instrument_name_to_program(\"Acoustic Grand Piano\"))\n",
    "\n",
    "    # Add starter notes\n",
    "    prev_start = 0\n",
    "    for note in starter_notes:\n",
    "        start = prev_start + 0.1\n",
    "        n = pretty_midi.Note(\n",
    "            velocity=random.randint(80, 120),\n",
    "            pitch=int(note[0]),\n",
    "            start=start,\n",
    "            end=start + random.random(),\n",
    "        )\n",
    "        starter_instrument.notes.append(n)\n",
    "        prev_start = start\n",
    "    pm.instruments.append(starter_instrument)\n",
    "\n",
    "    # Add generated notes\n",
    "    for i, note in notes.iterrows():\n",
    "        n = pretty_midi.Note(\n",
    "            velocity=random.randint(80, 120),\n",
    "            pitch=int(note[\"pitch\"]),\n",
    "            start=prev_start + note[\"start\"],\n",
    "            end=prev_start + note[\"end\"],\n",
    "        )\n",
    "        instrument.notes.append(n)\n",
    "\n",
    "    pm.instruments.append(instrument)\n",
    "    pm.write(out_file)\n",
    "    return pm"
   ]
  },
  {
   "cell_type": "code",
   "execution_count": 41,
   "id": "4aa6b878",
   "metadata": {
    "pycharm": {
     "name": "#%%\n"
    }
   },
   "outputs": [
    {
     "name": "stdout",
     "output_type": "stream",
     "text": [
      "Successfully saved MIDI as ../output/1650244700.mid\n"
     ]
    }
   ],
   "source": [
    "out_file = f\"../output/{int(time.time())}.mid\"\n",
    "out_pm = notes_to_midi(input_notes, generated_notes, out_file=out_file)\n",
    "print(f\"Successfully saved MIDI as {out_file}\")"
   ]
  },
  {
   "cell_type": "code",
   "execution_count": 42,
   "id": "a7ebb894",
   "metadata": {
    "pycharm": {
     "name": "#%%\n"
    }
   },
   "outputs": [
    {
     "data": {
      "text/plain": "<Figure size 1440x288 with 1 Axes>",
      "image/png": "[encoded data removed]"
     },
     "metadata": {
      "needs_background": "light"
     },
     "output_type": "display_data"
    }
   ],
   "source": [
    "def plot_piano_roll(notes: pd.DataFrame, count=None):\n",
    "    title = f\"Whole track\"\n",
    "    count = len(notes[\"pitch\"])\n",
    "    plt.figure(figsize=(20, 4))\n",
    "    plot_pitch = np.stack([notes[\"pitch\"], notes[\"pitch\"]], axis=0)\n",
    "    plot_start_stop = np.stack([notes[\"start\"], notes[\"end\"]], axis=0)\n",
    "    plt.plot(\n",
    "        plot_start_stop[:, :count], plot_pitch[:, :count], color=\"b\", marker=\".\")\n",
    "    plt.xlabel(\"Time [s]\")\n",
    "    plt.ylabel(\"Pitch\")\n",
    "    _ = plt.title(title)\n",
    "\n",
    "\n",
    "plot_piano_roll(generated_notes)"
   ]
  },
  {
   "cell_type": "code",
   "execution_count": null,
   "id": "2d695dfc",
   "metadata": {
    "pycharm": {
     "name": "#%%\n"
    }
   },
   "outputs": [],
   "source": []
  },
  {
   "cell_type": "code",
   "execution_count": null,
   "id": "e01bbcf6",
   "metadata": {
    "pycharm": {
     "name": "#%%\n"
    }
   },
   "outputs": [],
   "source": []
  },
  {
   "cell_type": "code",
   "execution_count": null,
   "id": "71bfd84e",
   "metadata": {
    "pycharm": {
     "name": "#%%\n"
    }
   },
   "outputs": [],
   "source": []
  },
  {
   "cell_type": "code",
   "execution_count": null,
   "id": "2785f763",
   "metadata": {
    "pycharm": {
     "name": "#%%\n"
    }
   },
   "outputs": [],
   "source": []
  },
  {
   "cell_type": "code",
   "execution_count": null,
   "id": "3d9b7bbe",
   "metadata": {},
   "outputs": [],
   "source": []
  },
  {
   "cell_type": "code",
   "execution_count": null,
   "id": "f9cda4e2",
   "metadata": {},
   "outputs": [],
   "source": []
  }
 ],
 "metadata": {
  "kernelspec": {
   "display_name": "Python 3 (ipykernel)",
   "language": "python",
   "name": "python3"
  },
  "language_info": {
   "codemirror_mode": {
    "name": "ipython",
    "version": 3
   },
   "file_extension": ".py",
   "mimetype": "text/x-python",
   "name": "python",
   "nbconvert_exporter": "python",
   "pygments_lexer": "ipython3",
   "version": "3.10.3"
  }
 },
 "nbformat": 4,
 "nbformat_minor": 5
}